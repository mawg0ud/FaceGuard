import os
import cv2
import matplotlib.pyplot as plt
from data_preprocessing.data_loader import FaceForensicsDataset
from data_preprocessing.augmentation import get_train_augmentations

# Configurations
data_dir = "../datasets/FaceForensics++"
image_size = 256
augmentations = get_train_augmentations(image_size)

# Loading Dataset
dataset = FaceForensicsDataset(data_dir=data_dir, phase='train', augmentations=augmentations)

# Checking Dataset Length and Data
print(f"Total images in training set: {len(dataset)}")

# Displaying Sample Images and Masks
def show_sample(dataset, index=0):
    image, mask = dataset[index]
    image = image.permute(1, 2, 0).numpy()  # Reformat for display
    
    fig, ax = plt.subplots(1, 2, figsize=(10, 5))
    ax[0].imshow(image)
    ax[0].set_title("Image")
    ax[1].imshow(mask.squeeze(), cmap="gray")
    ax[1].set_title("Mask")
    plt.show()

# Display a few samples
for idx in range(3):
    show_sample(dataset, index=idx)

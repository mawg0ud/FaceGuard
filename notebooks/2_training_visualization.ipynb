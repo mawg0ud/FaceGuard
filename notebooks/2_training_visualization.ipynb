# Importing Libraries
import matplotlib.pyplot as plt
import json

# Load training logs from JSON or CSV
log_path = "../logs/experiment1_baseline.log"

# Parse the log file to extract epoch loss
def parse_logs(log_path):
    with open(log_path, 'r') as file:
        lines = file.readlines()
    train_loss = [float(line.split("Loss: ")[-1]) for line in lines if "Loss" in line]
    return train_loss

train_loss = parse_logs(log_path)

# Plotting Loss Curve
plt.figure(figsize=(10, 5))
plt.plot(train_loss, label='Train Loss')
plt.xlabel('Epoch')
plt.ylabel('Loss')
plt.title('Training Loss Over Time')
plt.legend()
plt.show()

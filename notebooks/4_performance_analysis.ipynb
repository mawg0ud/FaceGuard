# Importing Libraries
import torch
import numpy as np
import matplotlib.pyplot as plt
from sklearn.metrics import confusion_matrix, ConfusionMatrixDisplay
from models.auto_encoder import YAutoEncoder
from data_preprocessing.data_loader import FaceForensicsDataset
from utils.save_load_model import load_model
from models.metrics import compute_accuracy, compute_eer

# Configuration
device = torch.device("cuda" if torch.cuda.is_available() else "cpu")
data_dir = "../datasets/FaceForensics++"
model_path = "../results/baseline_model.pth"

# Load Model
model = YAutoEncoder().to(device)
model = load_model(model, model_path)
model.eval()

# Load Test Data
test_dataset = FaceForensicsDataset(data_dir=data_dir, phase='test')
test_loader = torch.utils.data.DataLoader(test_dataset, batch_size=16)

# Collecting Predictions and True Labels
all_preds = []
all_masks = []

with torch.no_grad():
    for images, masks in test_loader:
        images, masks = images.to(device), masks.to(device)
        pred_masks, _ = model(images)
        all_preds.append(pred_masks.argmax(dim=1).cpu().numpy())
        all_masks.append(masks.cpu().numpy())

# Flatten predictions and true labels for metric computation
all_preds = np.concatenate(all_preds).flatten()
all_masks = np.concatenate(all_masks).flatten()

# Calculate Accuracy and EER
accuracy = compute_accuracy(torch.tensor(all_preds), torch.tensor(all_masks))
eer = compute_eer(torch.tensor(all_preds), torch.tensor(all_masks))
print(f"Overall Accuracy: {accuracy}")
print(f"Equal Error Rate (EER): {eer}")

# Confusion Matrix
conf_matrix = confusion_matrix(all_masks, all_preds)
disp = ConfusionMatrixDisplay(confusion_matrix=conf_matrix)
disp.plot(cmap='Blues')
plt.show()

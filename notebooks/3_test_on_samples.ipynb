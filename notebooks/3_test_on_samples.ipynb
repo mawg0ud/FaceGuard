# Importing Libraries
import torch
import matplotlib.pyplot as plt
from models.auto_encoder import YAutoEncoder
from data_preprocessing.data_loader import FaceForensicsDataset
from utils.save_load_model import load_model

# Configuration
device = torch.device("cuda" if torch.cuda.is_available() else "cpu")
data_dir = "../datasets/FaceForensics++"
model_path = "../results/baseline_model.pth"

# Load Pretrained Model
model = YAutoEncoder().to(device)
model = load_model(model, model_path)
model.eval()

# Load Test Dataset
test_dataset = FaceForensicsDataset(data_dir=data_dir, phase='test')
sample_loader = torch.utils.data.DataLoader(test_dataset, batch_size=1)

# Function to visualize prediction
def visualize_prediction(image, mask, pred_mask):
    fig, ax = plt.subplots(1, 3, figsize=(15, 5))
    ax[0].imshow(image.permute(1, 2, 0).cpu().numpy())
    ax[0].set_title("Image")
    ax[1].imshow(mask.squeeze().cpu().numpy(), cmap='gray')
    ax[1].set_title("Ground Truth Mask")
    ax[2].imshow(pred_mask.squeeze().cpu().numpy(), cmap='gray')
    ax[2].set_title("Predicted Mask")
    plt.show()

# Predict on a few test samples
with torch.no_grad():
    for images, masks in sample_loader:
        images, masks = images.to(device), masks.to(device)
        pred_masks, _ = model(images)
        visualize_prediction(images[0], masks[0], pred_masks[0])
        break  # Display only one example
